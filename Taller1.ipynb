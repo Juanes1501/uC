{
  "nbformat": 4,
  "nbformat_minor": 0,
  "metadata": {
    "colab": {
      "provenance": [],
      "authorship_tag": "ABX9TyNhz3pEy01zH/ILE27gtsgp",
      "include_colab_link": true
    },
    "kernelspec": {
      "name": "python3",
      "display_name": "Python 3"
    },
    "language_info": {
      "name": "python"
    }
  },
  "cells": [
    {
      "cell_type": "markdown",
      "metadata": {
        "id": "view-in-github",
        "colab_type": "text"
      },
      "source": [
        "<a href=\"https://colab.research.google.com/github/Juanes1501/uC/blob/main/Taller1.ipynb\" target=\"_parent\"><img src=\"https://colab.research.google.com/assets/colab-badge.svg\" alt=\"Open In Colab\"/></a>"
      ]
    },
    {
      "cell_type": "code",
      "execution_count": 48,
      "metadata": {
        "colab": {
          "base_uri": "https://localhost:8080/"
        },
        "id": "xpc8PFiC0mkt",
        "outputId": "605b0a66-aa55-4c9d-c6bb-4886a675c896"
      },
      "outputs": [
        {
          "output_type": "stream",
          "name": "stdout",
          "text": [
            "El elemento en la posición (2, 1) es: 8.0\n",
            "array('f', [1.0, 2.0, 3.0, 7.0, 8.0, 9.0, 4.0, 5.0, 6.0])\n",
            "array('f', [1.0, 2.0, 3.0, 7.0, 8.0, 9.0, 8.0, 10.0, 12.0])\n",
            "array('f', [1.0, 2.0, 3.0, 7.0, 8.0, 9.0, 10.0, 14.0, 18.0])\n"
          ]
        }
      ],
      "source": [
        "from array import array\n",
        "def elem(A, i, j):\n",
        "    if i < 0 or i >= 3 or j < 0 or j >= 3:\n",
        "        return None  # Índices fuera de rango para una matriz 3x3\n",
        "\n",
        "    indice = i * 3 + j\n",
        "    return A[indice]\n",
        "\n",
        "def camr(A,i1,i2):\n",
        "    if i1 < 0 or i1 >= 3 or i2 < 0 or i2 >= 3:\n",
        "        return None  # Índices fuera de rango para una matriz 3x3\n",
        "\n",
        "    if (i1 == 0 and i2 == 0) or (i1 == 1 and i2 == 1) or (i1 == 2 and i2 == 2):\n",
        "        return None\n",
        "\n",
        "    if (i1 == 0 and i2 == 1) or (i1 == 1 and i2 == 0):\n",
        "        auxA1 = array ('f',[A[3], A[4], A[5], A[0], A[1], A[2], A[6], A[7], A[8]])\n",
        "        return auxA1\n",
        "\n",
        "    if (i1 == 0 and i2 == 2) or (i1 == 2 and i2 == 0):\n",
        "        auxA1 = array ('f',[A[6], A[7], A[8], A[3], A[4], A[5], A[0], A[1], A[2] ])\n",
        "        return auxA1\n",
        "\n",
        "    if (i1 == 1 and i2 == 2) or (i1 == 2 and i2 == 1):\n",
        "        auxA1 = array ('f',[A[0], A[1], A[2], A[6], A[7], A[8], A[3], A[4], A[5]])\n",
        "        return auxA1\n",
        "\n",
        "def mre (A,i3,e):\n",
        "    if i3 < 0 or i3 >= 3:\n",
        "        return None  # Índices fuera de rango para una matriz 3x3\n",
        "\n",
        "    if i3 == 0:\n",
        "        auxA1 = array ('f',[e*A[0], e*A[1], e*A[2], A[3], A[4], A[5], A[6], A[7], A[8]])\n",
        "        return auxA1\n",
        "\n",
        "    if i3 == 1:\n",
        "        auxA1 = array ('f',[A[0], A[1], A[2], e*A[3], e*A[4], e*A[5], A[6], A[7], A[8]])\n",
        "        return auxA1\n",
        "\n",
        "    if i3 == 2:\n",
        "        auxA1 = array ('f',[A[0], A[1], A[2], A[3], A[4], A[5], e*A[6], e*A[7], e*A[8]])\n",
        "        return auxA1\n",
        "\n",
        "def smro(A,i4,m,i5):\n",
        "    if i4 < 0 or i4 >= 3 or i5 < 0 or i5 >= 3:\n",
        "        return None  # Índices fuera de rango para una matriz 3x3\n",
        "\n",
        "    if (i4 == 0 and i5 == 0) or (i4 == 1 and i5 == 1) or (i4 == 2 and i5 == 2):\n",
        "        return None\n",
        "\n",
        "    if (i4 == 1 and i5 == 0):\n",
        "        auxA1 = array ('f',[m*A[3]+A[0], m*A[4]+A[1], m*A[5]+A[2], A[3], A[4], A[5], A[6], A[7], A[8]])\n",
        "        return auxA1\n",
        "\n",
        "    if (i4 == 0 and i5 == 1):\n",
        "        auxA1 = array ('f',[A[0], A[1], A[2], m*A[0]+A[3], m*A[1]+A[4], m*A[2]+A[5], A[6], A[7], A[8]])\n",
        "        return auxA1\n",
        "\n",
        "    if (i4 == 2 and i5 == 0):\n",
        "        auxA1 = array ('f',[m*A[6]+A[0], m*A[7]+A[1], m*A[8]+A[2], A[3], A[4], A[5], A[6], A[7], A[8]])\n",
        "        return auxA1\n",
        "\n",
        "    if (i4 == 0 and i5 == 2):\n",
        "        auxA1 = array ('f',[A[0], A[1], A[2], A[3], A[4], A[5], m*A[0]+A[6], m*A[1]+A[7], m*A[2]+A[8]])\n",
        "        return auxA1\n",
        "\n",
        "    if (i4 == 2 and i5 == 1):\n",
        "        auxA1 = array ('f',[A[0], A[1], A[2], m*A[6]+A[3], m*A[7]+A[4], m*A[8]+A[5], A[6], A[7], A[8]])\n",
        "        return auxA1\n",
        "\n",
        "    if (i4 == 1 and i5 == 2):\n",
        "        auxA1 = array ('f',[A[0], A[1], A[2], A[3], A[4], A[5], m*A[3]+A[6], m*A[4]+A[7], m*A[5]+A[8]])\n",
        "        return auxA1\n",
        "\n",
        "# Ejemplo de uso:\n",
        "A = array ('f',[1, 2, 3, 4, 5, 6, 7, 8, 9])  # Array que representa una matriz de 3x3\n",
        "i = 2\n",
        "j = 1\n",
        "elemento = elem(A, i, j)\n",
        "print(f\"El elemento en la posición ({i}, {j}) es: {elemento}\")  # Debería imprimir: El elemento en la posición (1, 2) es: 6\n",
        "i1 = 1\n",
        "i2 = 2\n",
        "A = camr(A,i1,i2)\n",
        "print(A)\n",
        "i3 = 2\n",
        "e = 2\n",
        "A = mre (A,i3,e)\n",
        "print(A)\n",
        "i4 = 0\n",
        "i5 = 2\n",
        "m = 2\n",
        "A = smro(A,i4,m,i5)\n",
        "print(A)"
      ]
    },
    {
      "cell_type": "code",
      "source": [
        "import sympy as sp\n",
        "A = sp.Matrix([\n",
        "    [1, 2, 3],\n",
        "    [4, 5, 6],\n",
        "    [7, 8, 9],\n",
        "])\n",
        "A[2,1]\n"
      ],
      "metadata": {
        "colab": {
          "base_uri": "https://localhost:8080/",
          "height": 37
        },
        "id": "y_yBcHpz1p3M",
        "outputId": "0a6d4f5a-cee5-4bfe-ee1c-b67301e9c859"
      },
      "execution_count": 71,
      "outputs": [
        {
          "output_type": "execute_result",
          "data": {
            "text/plain": [
              "8"
            ],
            "text/latex": "$\\displaystyle 8$"
          },
          "metadata": {},
          "execution_count": 71
        }
      ]
    },
    {
      "cell_type": "code",
      "source": [
        "M = A[:,:]\n",
        "\n",
        "M.row_swap(2,1)\n",
        "\n",
        "M"
      ],
      "metadata": {
        "colab": {
          "base_uri": "https://localhost:8080/",
          "height": 78
        },
        "id": "_O9ipFVmZvJr",
        "outputId": "bbe169df-1325-4fd7-f04f-589f08140882"
      },
      "execution_count": 72,
      "outputs": [
        {
          "output_type": "execute_result",
          "data": {
            "text/plain": [
              "Matrix([\n",
              "[1, 2, 3],\n",
              "[7, 8, 9],\n",
              "[4, 5, 6]])"
            ],
            "text/latex": "$\\displaystyle \\left[\\begin{matrix}1 & 2 & 3\\\\7 & 8 & 9\\\\4 & 5 & 6\\end{matrix}\\right]$"
          },
          "metadata": {},
          "execution_count": 72
        }
      ]
    },
    {
      "cell_type": "code",
      "source": [
        "M[2,:] = 2 *M[2,:]\n",
        "\n",
        "M"
      ],
      "metadata": {
        "colab": {
          "base_uri": "https://localhost:8080/",
          "height": 78
        },
        "id": "CHtEs6dFZ6yD",
        "outputId": "1df4fd93-aeda-41f8-92fe-a4c54829a8c2"
      },
      "execution_count": 73,
      "outputs": [
        {
          "output_type": "execute_result",
          "data": {
            "text/plain": [
              "Matrix([\n",
              "[1,  2,  3],\n",
              "[7,  8,  9],\n",
              "[8, 10, 12]])"
            ],
            "text/latex": "$\\displaystyle \\left[\\begin{matrix}1 & 2 & 3\\\\7 & 8 & 9\\\\8 & 10 & 12\\end{matrix}\\right]$"
          },
          "metadata": {},
          "execution_count": 73
        }
      ]
    },
    {
      "cell_type": "code",
      "source": [
        "M[2,:] = M[0,:]*2 + M[2,:]\n",
        "\n",
        "M"
      ],
      "metadata": {
        "colab": {
          "base_uri": "https://localhost:8080/",
          "height": 78
        },
        "id": "R18KGnbcbB82",
        "outputId": "85da4d1e-f514-45e8-a774-2ad39dc188b4"
      },
      "execution_count": 74,
      "outputs": [
        {
          "output_type": "execute_result",
          "data": {
            "text/plain": [
              "Matrix([\n",
              "[ 1,  2,  3],\n",
              "[ 7,  8,  9],\n",
              "[10, 14, 18]])"
            ],
            "text/latex": "$\\displaystyle \\left[\\begin{matrix}1 & 2 & 3\\\\7 & 8 & 9\\\\10 & 14 & 18\\end{matrix}\\right]$"
          },
          "metadata": {},
          "execution_count": 74
        }
      ]
    }
  ]
}